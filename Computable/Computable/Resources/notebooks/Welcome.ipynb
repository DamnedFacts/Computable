{
  "nbformat" : 3,
  "nbformat_minor" : 0,
  "metadata" : {
    "name" : ""
  },
  "worksheets" : [
    {
      "cells" : [
        {
          "metadata" : {

          },
          "source" : [
            "# Welcome to Computable\n",
            "\n",
            "Computable brings the versatile [IPython](http:\/\/ipython.org) computing environment to the iPad. \n",
            "\n",
            "Equipped with a full-featured stack of scientific software packages written in [Python](http:\/\/python.org), Computable makes it easy to test out ideas, build prototypes, learn about new concepts, and write down the results in beautiful IPython notebooks with support for [Markdown](https:\/\/daringfireball.net\/projects\/markdown\/)-formatted text and $\\TeX$ or $\\LaTeX$-formatted maths.\n",
            "\n",
            "_Note: This welcome page is itself an IPython notebook created with Computable. To reveal the Markdown source, tap the text once to select the cell (a toolbar will show up), then tap a second time to turn the cell into edit mode._ \n",
            "\n",
            "## Bundled Software\n",
            "\n",
            "Computable comes with a complete [SciPy stack](http:\/\/scipy.org\/stackspec.html) comprised of:\n",
            "\n",
            "- [numpy 1.8.0](http:\/\/numpy.org)\n",
            "- [scipy 0.13.2](http:\/\/scipy.org)\n",
            "- [sympy 0.7.5](http:\/\/sympy.org)\n",
            "- [pandas 0.13.1](http:\/\/pandas.pydata.org)\n",
            "- [matplotlib 1.3.1](http:\/\/matplotlib.org)\n",
            "- [IPython 1.2.0](http:\/\/ipython.org) \n",
            "- [Python 2.7.1](http:\/\/www.python.org)\n",
            "\n",
            "### Limitations\n",
            "\n",
            "- The scipy.stats.mvn package is not available.\n",
            "- Notebook cell animations (display\/clear_output) are not yet handled.\n",
            "\n",
            "## Sample Notebooks\n",
            "\n",
            "Be sure to check out the bundled sample notebooks from the notebook browser (accessible via  the book icon in the navigation bar). To execute a sample notebook, select the first code cell, and hit the _\"run from here\"_ button (the fast-forward arrow).\n",
            "\n",
            "## Free to Try\n",
            "\n",
            "To set the expectations straight, please note that Computable is a _\"free with in-app purchase\"_ app. The free version of Computable lets you open and run the bundled example notebooks, to give you an idea of what it is capable of. To create or edit your own notebooks, you will have to make an in-app purchase to unlock the full feature set, however."
          ],
          "cell_type" : "markdown"
        }
      ],
      "metadata" : {

      }
    }
  ]
}